{
 "cells": [
  {
   "cell_type": "markdown",
   "metadata": {},
   "source": [
    "# Softmax exercise\n",
    "\n",
    "*Complete and hand in this completed worksheet (including its outputs and any supporting code outside of the worksheet) with your assignment submission. For more details see the [assignments page](http://vision.stanford.edu/teaching/cs231n/assignments.html) on the course website.*\n",
    "\n",
    "This exercise is analogous to the SVM exercise. You will:\n",
    "\n",
    "- implement a fully-vectorized **loss function** for the Softmax classifier\n",
    "- implement the fully-vectorized expression for its **analytic gradient**\n",
    "- **check your implementation** with numerical gradient\n",
    "- use a validation set to **tune the learning rate and regularization** strength\n",
    "- **optimize** the loss function with **SGD**\n",
    "- **visualize** the final learned weights\n"
   ]
  },
  {
   "cell_type": "code",
   "execution_count": 1,
   "metadata": {
    "collapsed": true
   },
   "outputs": [],
   "source": [
    "import random\n",
    "import numpy as np\n",
    "from cs231n.data_utils import load_CIFAR10\n",
    "import matplotlib.pyplot as plt\n",
    "\n",
    "from __future__ import print_function\n",
    "\n",
    "%matplotlib inline\n",
    "plt.rcParams['figure.figsize'] = (10.0, 8.0) # set default size of plots\n",
    "plt.rcParams['image.interpolation'] = 'nearest'\n",
    "plt.rcParams['image.cmap'] = 'gray'\n",
    "\n",
    "# for auto-reloading extenrnal modules\n",
    "# see http://stackoverflow.com/questions/1907993/autoreload-of-modules-in-ipython\n",
    "%load_ext autoreload\n",
    "%autoreload 2"
   ]
  },
  {
   "cell_type": "code",
   "execution_count": 2,
   "metadata": {},
   "outputs": [
    {
     "name": "stdout",
     "output_type": "stream",
     "text": [
      "Train data shape:  (49000, 3073)\n",
      "Train labels shape:  (49000,)\n",
      "Validation data shape:  (1000, 3073)\n",
      "Validation labels shape:  (1000,)\n",
      "Test data shape:  (1000, 3073)\n",
      "Test labels shape:  (1000,)\n",
      "dev data shape:  (500, 3073)\n",
      "dev labels shape:  (500,)\n"
     ]
    }
   ],
   "source": [
    "def get_CIFAR10_data(num_training=49000, num_validation=1000, num_test=1000, num_dev=500):\n",
    "    \"\"\"\n",
    "    Load the CIFAR-10 dataset from disk and perform preprocessing to prepare\n",
    "    it for the linear classifier. These are the same steps as we used for the\n",
    "    SVM, but condensed to a single function.  \n",
    "    \"\"\"\n",
    "    # Load the raw CIFAR-10 data\n",
    "    cifar10_dir = 'cs231n/datasets/cifar-10-batches-py'\n",
    "    \n",
    "    X_train, y_train, X_test, y_test = load_CIFAR10(cifar10_dir)\n",
    "    \n",
    "    # subsample the data\n",
    "    mask = list(range(num_training, num_training + num_validation))\n",
    "    X_val = X_train[mask]\n",
    "    y_val = y_train[mask]\n",
    "    mask = list(range(num_training))\n",
    "    X_train = X_train[mask]\n",
    "    y_train = y_train[mask]\n",
    "    mask = list(range(num_test))\n",
    "    X_test = X_test[mask]\n",
    "    y_test = y_test[mask]\n",
    "    mask = np.random.choice(num_training, num_dev, replace=False)\n",
    "    X_dev = X_train[mask]\n",
    "    y_dev = y_train[mask]\n",
    "    \n",
    "    # Preprocessing: reshape the image data into rows\n",
    "    X_train = np.reshape(X_train, (X_train.shape[0], -1))\n",
    "    X_val = np.reshape(X_val, (X_val.shape[0], -1))\n",
    "    X_test = np.reshape(X_test, (X_test.shape[0], -1))\n",
    "    X_dev = np.reshape(X_dev, (X_dev.shape[0], -1))\n",
    "    \n",
    "    # Normalize the data: subtract the mean image\n",
    "    mean_image = np.mean(X_train, axis = 0)\n",
    "    X_train -= mean_image\n",
    "    X_val -= mean_image\n",
    "    X_test -= mean_image\n",
    "    X_dev -= mean_image\n",
    "    \n",
    "    # add bias dimension and transform into columns\n",
    "    X_train = np.hstack([X_train, np.ones((X_train.shape[0], 1))])\n",
    "    X_val = np.hstack([X_val, np.ones((X_val.shape[0], 1))])\n",
    "    X_test = np.hstack([X_test, np.ones((X_test.shape[0], 1))])\n",
    "    X_dev = np.hstack([X_dev, np.ones((X_dev.shape[0], 1))])\n",
    "    \n",
    "    return X_train, y_train, X_val, y_val, X_test, y_test, X_dev, y_dev\n",
    "\n",
    "\n",
    "# Cleaning up variables to prevent loading data multiple times (which may cause memory issue)\n",
    "try:\n",
    "   del X_train, y_train\n",
    "   del X_test, y_test\n",
    "   print('Clear previously loaded data.')\n",
    "except:\n",
    "   pass\n",
    "\n",
    "# Invoke the above function to get our data.\n",
    "X_train, y_train, X_val, y_val, X_test, y_test, X_dev, y_dev = get_CIFAR10_data()\n",
    "print('Train data shape: ', X_train.shape)\n",
    "print('Train labels shape: ', y_train.shape)\n",
    "print('Validation data shape: ', X_val.shape)\n",
    "print('Validation labels shape: ', y_val.shape)\n",
    "print('Test data shape: ', X_test.shape)\n",
    "print('Test labels shape: ', y_test.shape)\n",
    "print('dev data shape: ', X_dev.shape)\n",
    "print('dev labels shape: ', y_dev.shape)"
   ]
  },
  {
   "cell_type": "markdown",
   "metadata": {},
   "source": [
    "## Softmax Classifier\n",
    "\n",
    "Your code for this section will all be written inside **cs231n/classifiers/softmax.py**. \n"
   ]
  },
  {
   "cell_type": "code",
   "execution_count": 3,
   "metadata": {},
   "outputs": [
    {
     "name": "stdout",
     "output_type": "stream",
     "text": [
      "loss: 2.363522\n",
      "sanity check: 2.302585\n"
     ]
    }
   ],
   "source": [
    "# First implement the naive softmax loss function with nested loops.\n",
    "# Open the file cs231n/classifiers/softmax.py and implement the\n",
    "# softmax_loss_naive function.\n",
    "\n",
    "from cs231n.classifiers.softmax import softmax_loss_naive\n",
    "import time\n",
    "\n",
    "# Generate a random softmax weight matrix and use it to compute the loss.\n",
    "W = np.random.randn(3073, 10) * 0.0001\n",
    "loss, grad = softmax_loss_naive(W, X_dev, y_dev, 0.0)\n",
    "\n",
    "# As a rough sanity check, our loss should be something close to -log(0.1).\n",
    "print('loss: %f' % loss)\n",
    "print('sanity check: %f' % (-np.log(0.1)))"
   ]
  },
  {
   "cell_type": "markdown",
   "metadata": {},
   "source": [
    " <font color='blue'>* In the next cell I will also use the toy example from lecture to verify my implementation. <BR>\n",
    " Added verbose flag to print each step*\n",
    " </font>"
   ]
  },
  {
   "cell_type": "code",
   "execution_count": 4,
   "metadata": {},
   "outputs": [
    {
     "name": "stdout",
     "output_type": "stream",
     "text": [
      "X [-15  22 -44  56   1]\n",
      "W\n",
      " [[ 0.01  0.7   0.  ]\n",
      " [-0.05  0.2  -0.45]\n",
      " [ 0.1   0.05 -0.2 ]\n",
      " [ 0.05  0.16  0.03]\n",
      " [ 0.    0.2  -0.3 ]]\n",
      "z [-2.85  0.86  0.28]\n",
      "zmax 0.8600000000000019\n",
      "z adjusted by max [-3.71  0.   -0.58]\n",
      "prob [0.02447752 1.         0.55989837]\n",
      "sum_of_p 1.5843758898370535\n",
      "normalized_p [0.01544932 0.63116335 0.35338733]\n",
      "Sum of normalized_p, must add to 1: 1.0\n",
      "loss_i 1.0401905694301092\n",
      "sum of loss 1.0401905694301092\n",
      "dscores \n",
      " [0.01544932 0.63116335 0.35338733]\n",
      "dscores - 1 for correct class / num_train:\n",
      " [ 0.00772466  0.31558168 -0.32330633]\n",
      "X[i] shape and value\n",
      " (5, 1) \n",
      " [[-15]\n",
      " [ 22]\n",
      " [-44]\n",
      " [ 56]\n",
      " [  1]]\n",
      "dscores[None,:].shape and value \n",
      " (1, 3) \n",
      " [[ 0.00772466  0.31558168 -0.32330633]]\n",
      "\n",
      "dW\n",
      " [[-1.15869868e-01 -4.73372515e+00  4.84959502e+00]\n",
      " [ 1.69942472e-01  6.94279689e+00 -7.11273936e+00]\n",
      " [-3.39884945e-01 -1.38855938e+01  1.42254787e+01]\n",
      " [ 4.32580839e-01  1.76725739e+01 -1.81051547e+01]\n",
      " [ 7.72465784e-03  3.15581677e-01 -3.23306335e-01]]\n",
      "X [-15  22 -44  56   1]\n",
      "W\n",
      " [[ 0.01  0.7   0.  ]\n",
      " [-0.05  0.2  -0.45]\n",
      " [ 0.1   0.05 -0.2 ]\n",
      " [ 0.05  0.16  0.03]\n",
      " [ 0.    0.2  -0.3 ]]\n",
      "z [-2.85  0.86  0.28]\n",
      "zmax 0.8600000000000019\n",
      "z adjusted by max [-3.71  0.   -0.58]\n",
      "prob [0.02447752 1.         0.55989837]\n",
      "sum_of_p 1.5843758898370535\n",
      "normalized_p [0.01544932 0.63116335 0.35338733]\n",
      "Sum of normalized_p, must add to 1: 1.0\n",
      "loss_i 1.0401905694301092\n",
      "sum of loss 2.0803811388602185\n",
      "dscores \n",
      " [0.01544932 0.63116335 0.35338733]\n",
      "dscores - 1 for correct class / num_train:\n",
      " [ 0.00772466  0.31558168 -0.32330633]\n",
      "X[i] shape and value\n",
      " (5, 1) \n",
      " [[-15]\n",
      " [ 22]\n",
      " [-44]\n",
      " [ 56]\n",
      " [  1]]\n",
      "dscores[None,:].shape and value \n",
      " (1, 3) \n",
      " [[ 0.00772466  0.31558168 -0.32330633]]\n",
      "\n",
      "dW\n",
      " [[-2.31739735e-01 -9.46745030e+00  9.69919004e+00]\n",
      " [ 3.39884945e-01  1.38855938e+01 -1.42254787e+01]\n",
      " [-6.79769890e-01 -2.77711876e+01  2.84509574e+01]\n",
      " [ 8.65161678e-01  3.53451478e+01 -3.62103095e+01]\n",
      " [ 1.54493157e-02  6.31163354e-01 -6.46612669e-01]]\n",
      "data loss 1.0401905694301092\n",
      "loss w regularization 1.0401905694301092\n",
      "returned loss: 1.040191\n"
     ]
    }
   ],
   "source": [
    "X_toy = np.array([[-15,22,-44,56,1],[-15,22,-44,56,1]])\n",
    "y_toy = np.array([2,2])\n",
    "W_toy = np.array([[0.01,-0.05,0.1,0.05,0.0],\n",
    "         [0.7,0.2,0.05,0.16,0.2],\n",
    "         [0.0,-0.45,-0.2,0.03,-0.3]])\n",
    "W_toy = W_toy.T\n",
    "\n",
    "# Generate a random softmax weight matrix and use it to compute the loss.\n",
    "loss, grad = softmax_loss_naive(W_toy, X_toy, y_toy, 0.0, verbose=True)\n",
    "\n",
    "print('returned loss: %f' % loss)"
   ]
  },
  {
   "cell_type": "markdown",
   "metadata": {},
   "source": [
    "## Inline Question 1:\n",
    "Why do we expect our loss to be close to -log(0.1)? Explain briefly.**\n",
    "\n",
    "**Your answer:** *Fill this in*\n"
   ]
  },
  {
   "cell_type": "markdown",
   "metadata": {},
   "source": [
    "<font color='blue'>\n",
    "\n",
    "Since all weights are initialized at values close to 0, \n",
    "at initialization all scores will be close together. This causes the normalized probability to be \n",
    "roughly evenly spread out across all different classes.\n",
    "<BR>\n",
    "\n",
    "Since we have 10 classes, the normalized\n",
    "probability for the correct class will be around 1/10 or 0.1 and therefore the log loss for \n",
    "the correct clas will be:<BR>-log(0.1) \n",
    "</font>"
   ]
  },
  {
   "cell_type": "code",
   "execution_count": 5,
   "metadata": {},
   "outputs": [
    {
     "name": "stdout",
     "output_type": "stream",
     "text": [
      "numerical: 1.012408 analytic: 1.012408, relative error: 1.579036e-08\n",
      "numerical: 2.031179 analytic: 2.031179, relative error: 1.734868e-08\n",
      "numerical: -0.871072 analytic: -0.871072, relative error: 1.233760e-08\n",
      "numerical: 0.204508 analytic: 0.204507, relative error: 6.276938e-08\n",
      "numerical: -3.825468 analytic: -3.825469, relative error: 1.844200e-08\n",
      "numerical: 0.443047 analytic: 0.443047, relative error: 1.551174e-09\n",
      "numerical: 2.347097 analytic: 2.347097, relative error: 2.904019e-08\n",
      "numerical: 0.247227 analytic: 0.247227, relative error: 3.343517e-08\n",
      "numerical: 0.089558 analytic: 0.089558, relative error: 3.630123e-08\n",
      "numerical: 3.653251 analytic: 3.653251, relative error: 1.874071e-08\n",
      "\n",
      "Gradient checking with regularization\n",
      "numerical: -1.977528 analytic: -1.977528, relative error: 2.949511e-08\n",
      "numerical: 1.703508 analytic: 1.703508, relative error: 2.660368e-08\n",
      "numerical: -1.688979 analytic: -1.688979, relative error: 2.096623e-08\n",
      "numerical: 0.076283 analytic: 0.076283, relative error: 8.974136e-07\n",
      "numerical: -3.322665 analytic: -3.322665, relative error: 5.064731e-09\n",
      "numerical: -1.902705 analytic: -1.902705, relative error: 6.740469e-09\n",
      "numerical: -0.094065 analytic: -0.094065, relative error: 9.758492e-08\n",
      "numerical: -2.035869 analytic: -2.035869, relative error: 6.892579e-09\n",
      "numerical: -2.027424 analytic: -2.027424, relative error: 9.377831e-10\n",
      "numerical: 1.028264 analytic: 1.028264, relative error: 7.143080e-09\n"
     ]
    }
   ],
   "source": [
    "# Complete the implementation of softmax_loss_naive and implement a (naive)\n",
    "# version of the gradient that uses nested loops.\n",
    "loss, grad = softmax_loss_naive(W, X_dev, y_dev, 0.0)\n",
    "\n",
    "# As we did for the SVM, use numeric gradient checking as a debugging tool.\n",
    "# The numeric gradient should be close to the analytic gradient.\n",
    "from cs231n.gradient_check import grad_check_sparse\n",
    "f = lambda w: softmax_loss_naive(w, X_dev, y_dev, 0.0)[0]\n",
    "grad_numerical = grad_check_sparse(f, W, grad, 10)\n",
    "\n",
    "# similar to SVM case, do another gradient check with regularization\n",
    "print(\"\\nGradient checking with regularization\")\n",
    "loss, grad = softmax_loss_naive(W, X_dev, y_dev, 5e1)\n",
    "f = lambda w: softmax_loss_naive(w, X_dev, y_dev, 5e1)[0]\n",
    "grad_numerical = grad_check_sparse(f, W, grad, 10)"
   ]
  },
  {
   "cell_type": "markdown",
   "metadata": {},
   "source": [
    "<font color='blue'>\n",
    "I will first use the toy example to test vectorized implementation.\n",
    "</font>"
   ]
  },
  {
   "cell_type": "code",
   "execution_count": 6,
   "metadata": {},
   "outputs": [
    {
     "name": "stdout",
     "output_type": "stream",
     "text": [
      "returned loss: 1.040191\n"
     ]
    }
   ],
   "source": [
    "from cs231n.classifiers.softmax import softmax_loss_vectorized\n",
    "X_toy = np.array([[-15,22,-44,56,1],[-15,22,-44,56,1]])\n",
    "y_toy = np.array([2,2])\n",
    "W_toy = np.array([[0.01,-0.05,0.1,0.05,0.0],\n",
    "         [0.7,0.2,0.05,0.16,0.2],\n",
    "         [0.0,-0.45,-0.2,0.03,-0.3]])\n",
    "W_toy = W_toy.T\n",
    "\n",
    "# Generate a random softmax weight matrix and use it to compute the loss.\n",
    "loss, grad = softmax_loss_vectorized(W_toy, X_toy, y_toy, 0.0, verbose=True)\n",
    "\n",
    "print('returned loss: %f' % loss)"
   ]
  },
  {
   "cell_type": "code",
   "execution_count": 7,
   "metadata": {},
   "outputs": [
    {
     "name": "stdout",
     "output_type": "stream",
     "text": [
      "naive loss: 2.363522e+00 computed in 0.097758s\n",
      "vectorized loss: 2.363522e+00 computed in 0.007069s\n",
      "Loss difference: 0.000000\n",
      "Gradient difference: 0.000000\n"
     ]
    }
   ],
   "source": [
    "# Now that we have a naive implementation of the softmax loss function and its gradient,\n",
    "# implement a vectorized version in softmax_loss_vectorized.\n",
    "# The two versions should compute the same results, but the vectorized version should be\n",
    "# much faster.\n",
    "tic = time.time()\n",
    "loss_naive, grad_naive = softmax_loss_naive(W, X_dev, y_dev, 0.000005)\n",
    "toc = time.time()\n",
    "print('naive loss: %e computed in %fs' % (loss_naive, toc - tic))\n",
    "\n",
    "from cs231n.classifiers.softmax import softmax_loss_vectorized\n",
    "tic = time.time()\n",
    "loss_vectorized, grad_vectorized = softmax_loss_vectorized(W, X_dev, y_dev, 0.000005)\n",
    "toc = time.time()\n",
    "print('vectorized loss: %e computed in %fs' % (loss_vectorized, toc - tic))\n",
    "\n",
    "# As we did for the SVM, we use the Frobenius norm to compare the two versions\n",
    "# of the gradient.\n",
    "grad_difference = np.linalg.norm(grad_naive - grad_vectorized, ord='fro')\n",
    "print('Loss difference: %f' % np.abs(loss_naive - loss_vectorized))\n",
    "print('Gradient difference: %f' % grad_difference)"
   ]
  },
  {
   "cell_type": "markdown",
   "metadata": {},
   "source": [
    "## Information about hyperparameter tuning\n",
    "<font color='blue'>\n",
    "\n",
    "Original values<BR>\n",
    "learning_rates = [1e-7, 5e-7]<BR>\n",
    "regularization_strengths = [2.5e4, 5e4]<BR>\n",
    "<BR>\n",
    "Tried a broader spectrum<BR>\n",
    "learning_rates = [2e-07, 1e-07, 9e-08, 7e-08, 6e-08, 5e-08]<BR>\n",
    "regularization_strengths = [5e3, 9e3, 1e4, 2e4, 2.5e4, 3e4]<BR>\n",
    "\n",
    "The above returned best lr 2.000000e-07 reg 5.000000e+03 <BR><BR>\n",
    "Those were the largest value for learning rate and smallest value for regularization strenght in the tested range above. Tried to increase learning rate further to see if it will get better results:<BR>\n",
    "learning_rates = [9e-07, 5e-07, 2e-07, 1e-07]<BR>\n",
    "regularization_strengths = [5e3, 9e3, 1e4, 2e4, 2.5e4, 3e4]<BR>\n",
    "Best lr 2.000000e-07 reg 5.000000e+03 train accuracy: 0.372327 val accuracy: 0.394000<BR><BR>\n",
    "Since 5e-7 and 9e-07 were not as good as 2e-07, try values closer to it to ensure we have maximized accuracy on validation set.<BR>\n",
    "learning_rates = [4e-07, 3e-07, 2e-07, 1e-07]<BR>\n",
    "regularization_strengths = [5e3, 9e3, 1e4, 2e4, 2.5e4, 3e4]<BR>\n",
    "Best lr 4.000000e-07 reg 5.000000e+03 train accuracy: 0.372061 val accuracy: 0.397000<BR><BR>\n",
    "Seems learning rate is at a good range, now experiment with reg strenght. Eliminate some of the higher values of regularization strenght which don't seem to perform as well and add some lower values to ensure we have achieved best performance on validation data.<BR>\n",
    "learning_rates = [4e-07, 3e-07, 2e-07, 1e-07]<BR>\n",
    "regularization_strengths = [4e3, 5e3, 6e3, 9e3]<BR>\n",
    "best validation accuracy achieved during cross-validation: 0.389000, best lr: 3.000000e-07, best reg: 5.000000e+03<BR>\n",
    "best validation accuracy achieved during cross-validation: 0.388000, best lr: 3.000000e-07, best reg: 6.000000e+03<BR>\n",
    "best validation accuracy achieved during cross-validation: 0.396000, best lr: 3.000000e-07, best reg: 4.000000e+03<BR>\n",
    "best validation accuracy achieved during cross-validation: 0.399000, best lr: 4.000000e-07, best reg: 6.000000e+03<BR><BR>\n",
    "The current range seems to be performing well. Due to random initialization, performance will vary between runs.\n",
    "</font>"
   ]
  },
  {
   "cell_type": "code",
   "execution_count": 8,
   "metadata": {},
   "outputs": [
    {
     "name": "stdout",
     "output_type": "stream",
     "text": [
      "lr 4.000000e-07 , lr 0.0000004000 \n",
      "lr 3.000000e-07 , lr 0.0000003000 \n",
      "lr 2.000000e-07 , lr 0.0000002000 \n",
      "lr 1.000000e-07 , lr 0.0000001000 \n",
      "reg_s 4.000000e+03, reg_s 4000.0000000000 \n",
      "reg_s 5.000000e+03, reg_s 5000.0000000000 \n",
      "reg_s 6.000000e+03, reg_s 6000.0000000000 \n",
      "reg_s 9.000000e+03, reg_s 9000.0000000000 \n",
      "lr 1.000000e-07 reg 4.000000e+03 train accuracy: 0.313102 val accuracy: 0.330000\n",
      "lr 1.000000e-07 reg 5.000000e+03 train accuracy: 0.334796 val accuracy: 0.339000\n",
      "lr 1.000000e-07 reg 6.000000e+03 train accuracy: 0.346265 val accuracy: 0.351000\n",
      "lr 1.000000e-07 reg 9.000000e+03 train accuracy: 0.352286 val accuracy: 0.368000\n",
      "lr 2.000000e-07 reg 4.000000e+03 train accuracy: 0.374327 val accuracy: 0.377000\n",
      "lr 2.000000e-07 reg 5.000000e+03 train accuracy: 0.372265 val accuracy: 0.389000\n",
      "lr 2.000000e-07 reg 6.000000e+03 train accuracy: 0.369367 val accuracy: 0.389000\n",
      "lr 2.000000e-07 reg 9.000000e+03 train accuracy: 0.363612 val accuracy: 0.371000\n",
      "lr 3.000000e-07 reg 4.000000e+03 train accuracy: 0.378388 val accuracy: 0.389000\n",
      "lr 3.000000e-07 reg 5.000000e+03 train accuracy: 0.370939 val accuracy: 0.380000\n",
      "lr 3.000000e-07 reg 6.000000e+03 train accuracy: 0.371020 val accuracy: 0.380000\n",
      "lr 3.000000e-07 reg 9.000000e+03 train accuracy: 0.359592 val accuracy: 0.370000\n",
      "lr 4.000000e-07 reg 4.000000e+03 train accuracy: 0.380408 val accuracy: 0.398000\n",
      "lr 4.000000e-07 reg 5.000000e+03 train accuracy: 0.374531 val accuracy: 0.381000\n",
      "lr 4.000000e-07 reg 6.000000e+03 train accuracy: 0.364531 val accuracy: 0.379000\n",
      "lr 4.000000e-07 reg 9.000000e+03 train accuracy: 0.358755 val accuracy: 0.367000\n",
      "best validation accuracy achieved during cross-validation: 0.398000, best lr: 4.000000e-07, best reg: 4.000000e+03\n"
     ]
    }
   ],
   "source": [
    "# Use the validation set to tune hyperparameters (regularization strength and\n",
    "# learning rate). You should experiment with different ranges for the learning\n",
    "# rates and regularization strengths; if you are careful you should be able to\n",
    "# get a classification accuracy of over 0.35 on the validation set.\n",
    "from cs231n.classifiers import Softmax\n",
    "results = {}\n",
    "best_val = -1\n",
    "best_softmax = None\n",
    "learning_rates = [4e-07, 3e-07, 2e-07, 1e-07]\n",
    "regularization_strengths = [4e3, 5e3, 6e3, 9e3]\n",
    "            \n",
    "for lr in learning_rates:\n",
    "    print('lr %e , lr %.10f ' % (\n",
    "                lr, lr))\n",
    "for reg_s in regularization_strengths:\n",
    "    print('reg_s %e, reg_s %.10f ' % (\n",
    "                reg_s, reg_s))\n",
    "    \n",
    "################################################################################\n",
    "# TODO:                                                                        #\n",
    "# Use the validation set to set the learning rate and regularization strength. #\n",
    "# This should be identical to the validation that you did for the SVM; save    #\n",
    "# the best trained softmax classifer in best_softmax.                          #\n",
    "################################################################################\n",
    "# Your code\n",
    "best_lr = -1\n",
    "best_reg_s = -1\n",
    "\n",
    "for lr in learning_rates:\n",
    "    for reg_s in regularization_strengths:\n",
    "        softmax = Softmax()\n",
    "        #print('lr %e reg_s %e, lr %.10f reg_s %.10f ' % (\n",
    "        #        lr, reg_s, lr, reg_s))\n",
    "        loss_hist = softmax.train(X_train, y_train, learning_rate=lr, reg=reg_s,\n",
    "                      num_iters=1500, verbose=False)\n",
    "        y_train_pred = softmax.predict(X_train)\n",
    "        y_train_acc = np.mean(y_train == y_train_pred)\n",
    "        y_val_pred = softmax.predict(X_val)\n",
    "        y_val_acc = np.mean(y_val == y_val_pred)\n",
    "       \n",
    "        if(y_val_acc > best_val):\n",
    "            best_val = y_val_acc\n",
    "            best_softmax = softmax\n",
    "            best_lr = lr\n",
    "            best_reg_s = reg_s\n",
    "        results[(lr,reg_s)] = y_train_acc, y_val_acc\n",
    "\n",
    "################################################################################\n",
    "#                              END OF YOUR CODE                                #\n",
    "################################################################################\n",
    "    \n",
    "# Print out results.\n",
    "for lr, reg in sorted(results):\n",
    "    train_accuracy, val_accuracy = results[(lr, reg)]\n",
    "    print('lr %e reg %e train accuracy: %f val accuracy: %f' % (\n",
    "                lr, reg, train_accuracy, val_accuracy))\n",
    "    \n",
    "print('best validation accuracy achieved during cross-validation: %f, best lr: %e, best reg: %e' \n",
    "      % (best_val, best_lr, best_reg_s))"
   ]
  },
  {
   "cell_type": "code",
   "execution_count": 9,
   "metadata": {},
   "outputs": [
    {
     "name": "stdout",
     "output_type": "stream",
     "text": [
      "softmax on raw pixels final test set accuracy: 0.385000\n"
     ]
    }
   ],
   "source": [
    "# evaluate on test set\n",
    "# Evaluate the best softmax on test set\n",
    "y_test_pred = best_softmax.predict(X_test)\n",
    "test_accuracy = np.mean(y_test == y_test_pred)\n",
    "print('softmax on raw pixels final test set accuracy: %f' % (test_accuracy, ))"
   ]
  },
  {
   "cell_type": "markdown",
   "metadata": {},
   "source": [
    "**Inline Question** - *True or False*\n",
    "\n",
    "It's possible to add a new datapoint to a training set that would leave the SVM loss unchanged, but this is not the case with the Softmax classifier loss.\n",
    "\n",
    "*Your answer*:\n",
    "<font color='blue'>\n",
    "False\n",
    "</font><BR> \n",
    "*Your explanation*:\n",
    "<font color='blue'>\n",
    "With a carefully crafted example, as can be seen below, it IS possible to add a data point and have the loss remain unchanged. This is the case as long as the loss of the normalized probability of the correct class for the new data point is the same as the average loss prior to its addition.\n",
    "</font><BR> "
   ]
  },
  {
   "cell_type": "code",
   "execution_count": 10,
   "metadata": {
    "scrolled": true
   },
   "outputs": [
    {
     "name": "stdout",
     "output_type": "stream",
     "text": [
      "X\n",
      " [[0 2 1]]\n",
      "returned loss: 0.126928\n",
      "X\n",
      " [[0 2 1]\n",
      " [2 0 1]]\n",
      "returned loss: 0.126928\n"
     ]
    }
   ],
   "source": [
    "# Example for adding a data point and having loss stay the same\n",
    "X_toy_2 = np.array([[0,2,1]])\n",
    "y_toy_2 = np.array([0])\n",
    "W_toy_2 = np.array([[0.0,1.0,0.0], [1.0,0.0,0.0]])\n",
    "\n",
    "W_toy_2 = W_toy_2.T\n",
    "\n",
    "# Generate a random softmax weight matrix and use it to compute the loss.\n",
    "loss, grad = softmax_loss_naive(W_toy_2, X_toy_2, y_toy_2, 0.0, verbose=False)\n",
    "\n",
    "print(\"X\\n\",X_toy_2)\n",
    "print('returned loss: %f' % loss)\n",
    "\n",
    "\n",
    "X_toy_2 = np.array([[0,2,1],[2,0,1]])\n",
    "y_toy_2 = np.array([0,1])\n",
    "W_toy_2 = np.array([[0.0,1.0,0.0], [1.0,0.0,0.0]])\n",
    "\n",
    "W_toy_2 = W_toy_2.T\n",
    "\n",
    "# Generate a random softmax weight matrix and use it to compute the loss.\n",
    "loss, grad = softmax_loss_naive(W_toy_2, X_toy_2, y_toy_2, 0.0, verbose=False)\n",
    "\n",
    "print(\"X\\n\",X_toy_2)\n",
    "print('returned loss: %f' % loss)"
   ]
  },
  {
   "cell_type": "code",
   "execution_count": 11,
   "metadata": {},
   "outputs": [
    {
     "data": {
      "image/png": "[encoded data removed]",
      "text/plain": [
       "<matplotlib.figure.Figure at 0x10dd82780>"
      ]
     },
     "metadata": {},
     "output_type": "display_data"
    }
   ],
   "source": [
    "# Visualize the learned weights for each class\n",
    "w = best_softmax.W[:-1,:] # strip out the bias\n",
    "w = w.reshape(32, 32, 3, 10)\n",
    "\n",
    "w_min, w_max = np.min(w), np.max(w)\n",
    "\n",
    "classes = ['plane', 'car', 'bird', 'cat', 'deer', 'dog', 'frog', 'horse', 'ship', 'truck']\n",
    "for i in range(10):\n",
    "    plt.subplot(2, 5, i + 1)\n",
    "    \n",
    "    # Rescale the weights to be between 0 and 255\n",
    "    wimg = 255.0 * (w[:, :, :, i].squeeze() - w_min) / (w_max - w_min)\n",
    "    plt.imshow(wimg.astype('uint8'))\n",
    "    plt.axis('off')\n",
    "    plt.title(classes[i])"
   ]
  }
 ],
 "metadata": {
  "kernelspec": {
   "display_name": "Python 3",
   "language": "python",
   "name": "python3"
  },
  "language_info": {
   "codemirror_mode": {
    "name": "ipython",
    "version": 3
   },
   "file_extension": ".py",
   "mimetype": "text/x-python",
   "name": "python",
   "nbconvert_exporter": "python",
   "pygments_lexer": "ipython3",
   "version": "3.6.1"
  }
 },
 "nbformat": 4,
 "nbformat_minor": 1
}
